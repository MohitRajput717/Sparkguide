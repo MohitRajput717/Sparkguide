{
 "cells": [
  {
   "cell_type": "code",
   "execution_count": 3,
   "id": "2177396f",
   "metadata": {},
   "outputs": [
    {
     "name": "stdout",
     "output_type": "stream",
     "text": [
      "+--------+----------+------------+--------------------+\n",
      "|actor_id|first_name|   last_name|           film_info|\n",
      "+--------+----------+------------+--------------------+\n",
      "|       1|  PENELOPE|     GUINESS|Animation: ANACON...|\n",
      "|       2|      NICK|    WAHLBERG|Action: BULL SHAW...|\n",
      "|       3|        ED|       CHASE|Action: CADDYSHAC...|\n",
      "|       4|  JENNIFER|       DAVIS|Action: BAREFOOT ...|\n",
      "|       5|    JOHNNY|LOLLOBRIGIDA|Action: AMADEUS H...|\n",
      "|       6|     BETTE|   NICHOLSON|Action: ANTITRUST...|\n",
      "|       7|     GRACE|      MOSTEL|Action: BERETS AG...|\n",
      "|       8|   MATTHEW|   JOHANSSON|Action: CAMPUS RE...|\n",
      "|       9|       JOE|       SWANK|Action: PRIMARY G...|\n",
      "|      10| CHRISTIAN|       GABLE|Action: LORD ARIZ...|\n",
      "|      11|      ZERO|        CAGE|Action: DANCES NO...|\n",
      "|      12|      KARL|       BERRY|Action: STAGECOAC...|\n",
      "|      13|       UMA|        WOOD|Action: ANTITRUST...|\n",
      "|      14|    VIVIEN|      BERGEN|Action: DRIFTER C...|\n",
      "|      15|      CUBA|     OLIVIER|Action: MONTEZUMA...|\n",
      "|      16|      FRED|     COSTNER|Action: EASY GLAD...|\n",
      "|      17|     HELEN|      VOIGHT|Action: SIDE ARK;...|\n",
      "|      18|       DAN|        TORN|Action: REAR TRAD...|\n",
      "|      19|       BOB|     FAWCETT|Action: DARN FORR...|\n",
      "|      20|   LUCILLE|       TRACY|Action: REAR TRAD...|\n",
      "+--------+----------+------------+--------------------+\n",
      "only showing top 20 rows\n",
      "\n"
     ]
    }
   ],
   "source": [
    "from pyspark.sql import SparkSession\n",
    "\n",
    "# Initialize SparkSession\n",
    "spark = SparkSession.builder \\\n",
    "    .appName(\"Spark MySQL Integration\") \\\n",
    "    .config(\"spark.jars\", \"C:\\\\Users\\\\Praveen Sharma\\\\Downloads\\\\mysql-connector-j-9.2.0\\\\mysql-connector-j-9.2.0\\\\mysql-connector-j-9.2.0.jar\") \\\n",
    "    .getOrCreate()\n",
    "\n",
    "# MySQL connection properties\n",
    "mysql_url = \"jdbc:mysql://localhost:3306/sakila\"\n",
    "mysql_properties = {\n",
    "    \"user\": \"root\",\n",
    "    \"password\": \"Mysql!@#123\",\n",
    "    \"driver\": \"com.mysql.cj.jdbc.Driver\"\n",
    "}\n",
    "\n",
    "# Table to query\n",
    "table_name = \"actor_info \"\n",
    "\n",
    "# Fetch data from MySQL\n",
    "df = spark.read.jdbc(url=mysql_url, table=table_name, properties=mysql_properties)\n",
    "\n",
    "# Show the data\n",
    "df.show()"
   ]
  },
  {
   "cell_type": "code",
   "execution_count": 4,
   "id": "9059f87e",
   "metadata": {},
   "outputs": [
    {
     "name": "stdout",
     "output_type": "stream",
     "text": [
      "+----------------+--------------------+--------------------+------------+---------------+-----------+------+----------------+------+--------------------+--------------------+\n",
      "|      Actor Name|               title|         description|release_year|rental_duration|rental_rate|length|replacement_cost|rating|    special_features|       language name|\n",
      "+----------------+--------------------+--------------------+------------+---------------+-----------+------+----------------+------+--------------------+--------------------+\n",
      "|PENELOPE GUINESS|    ACADEMY DINOSAUR|A Epic Drama of a...|  2006-01-01|              6|       0.99|    86|           20.99| PG   |Deleted Scenes,Be...|English             |\n",
      "|PENELOPE GUINESS|ANACONDA CONFESSIONS|A Lacklusture Dis...|  2006-01-01|              3|       0.99|    92|            9.99| R    |Trailers,Deleted ...|English             |\n",
      "|PENELOPE GUINESS|         ANGELS LIFE|A Thoughtful Disp...|  2006-01-01|              3|       2.99|    74|           15.99| G    |Trailers         ...|English             |\n",
      "|PENELOPE GUINESS|BULWORTH COMMANDM...|A Amazing Display...|  2006-01-01|              4|       2.99|    61|           14.99| G    |Trailers         ...|English             |\n",
      "|PENELOPE GUINESS|       CHEAPER CLYDE|A Emotional Chara...|  2006-01-01|              6|       0.99|    87|           23.99| G    |Trailers,Commenta...|English             |\n",
      "|PENELOPE GUINESS|  COLOR PHILADELPHIA|A Thoughtful Pano...|  2006-01-01|              6|       2.99|   149|           19.99| G    |Commentaries,Behi...|English             |\n",
      "|PENELOPE GUINESS|     ELEPHANT TROJAN|A Beautiful Panor...|  2006-01-01|              4|       4.99|   126|           24.99| PG-13|Behind the Scenes...|English             |\n",
      "|PENELOPE GUINESS| GLEAMING JAWBREAKER|A Amazing Display...|  2006-01-01|              5|       2.99|    89|           25.99| NC-17|Trailers,Commenta...|English             |\n",
      "|PENELOPE GUINESS|      HUMAN GRAFFITI|A Beautiful Refle...|  2006-01-01|              3|       2.99|    68|           22.99| NC-17|Trailers,Behind t...|English             |\n",
      "|PENELOPE GUINESS|      KING EVOLUTION|A Action-Packed T...|  2006-01-01|              3|       4.99|   184|           24.99| NC-17|Trailers,Deleted ...|English             |\n",
      "|PENELOPE GUINESS|          LADY STAGE|A Beautiful Chara...|  2006-01-01|              4|       4.99|    67|           14.99| PG   |Trailers,Deleted ...|English             |\n",
      "|PENELOPE GUINESS|     LANGUAGE COWBOY|A Epic Yarn of a ...|  2006-01-01|              5|       0.99|    78|           26.99| NC-17|Trailers,Deleted ...|English             |\n",
      "|PENELOPE GUINESS|    MULHOLLAND BEAST|A Awe-Inspiring D...|  2006-01-01|              7|       2.99|   157|           13.99| PG   |Trailers,Deleted ...|English             |\n",
      "|PENELOPE GUINESS|    OKLAHOMA JUMANJI|A Thoughtful Dram...|  2006-01-01|              7|       0.99|    58|           15.99| PG   |Behind the Scenes...|English             |\n",
      "|PENELOPE GUINESS|         RULES HUMAN|A Beautiful Epist...|  2006-01-01|              6|       4.99|   153|           19.99| R    |Deleted Scenes,Be...|English             |\n",
      "|PENELOPE GUINESS|         SPLASH GUMP|A Taut Saga of a ...|  2006-01-01|              5|       0.99|   175|           16.99| PG   |Trailers,Commenta...|English             |\n",
      "|PENELOPE GUINESS|   VERTIGO NORTHWEST|A Unbelieveable D...|  2006-01-01|              4|       2.99|    90|           17.99| R    |Commentaries,Behi...|English             |\n",
      "|PENELOPE GUINESS| WESTWARD SEABISCUIT|A Lacklusture Tal...|  2006-01-01|              7|       0.99|    52|           11.99| NC-17|Commentaries,Dele...|English             |\n",
      "|PENELOPE GUINESS|  WIZARD COLDBLOODED|A Lacklusture Dis...|  2006-01-01|              4|       4.99|    75|           12.99| PG   |Commentaries,Dele...|English             |\n",
      "|   NICK WAHLBERG|    ADAPTATION HOLES|A Astounding Refl...|  2006-01-01|              7|       2.99|    50|           18.99| NC-17|Trailers,Deleted ...|English             |\n",
      "+----------------+--------------------+--------------------+------------+---------------+-----------+------+----------------+------+--------------------+--------------------+\n",
      "only showing top 20 rows\n",
      "\n"
     ]
    }
   ],
   "source": [
    "from pyspark.sql import SparkSession\n",
    "\n",
    "# Initialize SparkSession\n",
    "spark = SparkSession.builder \\\n",
    "    .appName(\"Spark MySQL Integration\") \\\n",
    "    .config(\"spark.jars\", \"C:\\\\Users\\\\Praveen Sharma\\\\Downloads\\\\mysql-connector-j-9.2.0\\\\mysql-connector-j-9.2.0\\\\mysql-connector-j-9.2.0.jar\") \\\n",
    "    .getOrCreate()\n",
    "\n",
    "# MySQL connection properties\n",
    "mysql_url = \"jdbc:mysql://localhost:3306/sakila\"\n",
    "mysql_properties = {\n",
    "    \"user\": \"root\",\n",
    "    \"password\": \"Mysql!@#123\",\n",
    "    \"driver\": \"com.mysql.cj.jdbc.Driver\"\n",
    "}\n",
    "\n",
    "# SQL query for data extraction\n",
    "sql_query = \"\"\"\n",
    "    SELECT\n",
    "        CONCAT(ac.first_name, ' ', ac.last_name) AS `Actor Name`,\n",
    "        f.title,\n",
    "        f.description,\n",
    "        f.release_year,\n",
    "        f.rental_duration,\n",
    "        f.rental_rate,\n",
    "        f.length,\n",
    "        f.replacement_cost,\n",
    "        f.rating,\n",
    "        f.special_features,\n",
    "        l.name AS `language name`\n",
    "    FROM actor_info ac\n",
    "    LEFT JOIN film_actor AS ft ON ft.actor_id = ac.actor_id\n",
    "    LEFT JOIN film AS f ON f.film_id = ft.film_id\n",
    "    LEFT JOIN language AS l ON l.language_id = f.language_id\n",
    "    WHERE 1=1\n",
    "\"\"\"\n",
    "\n",
    "# Fetch data from MySQL using the SQL query\n",
    "df = spark.read.jdbc(url=mysql_url, table=f\"({sql_query}) AS subquery\", properties=mysql_properties)\n",
    "\n",
    "# Show the data\n",
    "df.show()"
   ]
  },
  {
   "cell_type": "code",
   "execution_count": 7,
   "id": "828ca259",
   "metadata": {},
   "outputs": [
    {
     "name": "stdout",
     "output_type": "stream",
     "text": [
      "+----------------+--------------------+--------------------+------------+---------------+-----------+------+----------------+------+--------------------+--------------------+\n",
      "|      Actor Name|               title|         description|release_year|rental_duration|rental_rate|length|replacement_cost|rating|    special_features|       language name|\n",
      "+----------------+--------------------+--------------------+------------+---------------+-----------+------+----------------+------+--------------------+--------------------+\n",
      "|PENELOPE GUINESS|    ACADEMY DINOSAUR|A Epic Drama of a...|  2006-01-01|              6|       0.99|    86|           20.99| PG   |Deleted Scenes,Be...|English             |\n",
      "|PENELOPE GUINESS|ANACONDA CONFESSIONS|A Lacklusture Dis...|  2006-01-01|              3|       0.99|    92|            9.99| R    |Trailers,Deleted ...|English             |\n",
      "|PENELOPE GUINESS|         ANGELS LIFE|A Thoughtful Disp...|  2006-01-01|              3|       2.99|    74|           15.99| G    |Trailers         ...|English             |\n",
      "|PENELOPE GUINESS|BULWORTH COMMANDM...|A Amazing Display...|  2006-01-01|              4|       2.99|    61|           14.99| G    |Trailers         ...|English             |\n",
      "|PENELOPE GUINESS|       CHEAPER CLYDE|A Emotional Chara...|  2006-01-01|              6|       0.99|    87|           23.99| G    |Trailers,Commenta...|English             |\n",
      "|PENELOPE GUINESS|  COLOR PHILADELPHIA|A Thoughtful Pano...|  2006-01-01|              6|       2.99|   149|           19.99| G    |Commentaries,Behi...|English             |\n",
      "|PENELOPE GUINESS|     ELEPHANT TROJAN|A Beautiful Panor...|  2006-01-01|              4|       4.99|   126|           24.99| PG-13|Behind the Scenes...|English             |\n",
      "|PENELOPE GUINESS| GLEAMING JAWBREAKER|A Amazing Display...|  2006-01-01|              5|       2.99|    89|           25.99| NC-17|Trailers,Commenta...|English             |\n",
      "|PENELOPE GUINESS|      HUMAN GRAFFITI|A Beautiful Refle...|  2006-01-01|              3|       2.99|    68|           22.99| NC-17|Trailers,Behind t...|English             |\n",
      "|PENELOPE GUINESS|      KING EVOLUTION|A Action-Packed T...|  2006-01-01|              3|       4.99|   184|           24.99| NC-17|Trailers,Deleted ...|English             |\n",
      "|PENELOPE GUINESS|          LADY STAGE|A Beautiful Chara...|  2006-01-01|              4|       4.99|    67|           14.99| PG   |Trailers,Deleted ...|English             |\n",
      "|PENELOPE GUINESS|     LANGUAGE COWBOY|A Epic Yarn of a ...|  2006-01-01|              5|       0.99|    78|           26.99| NC-17|Trailers,Deleted ...|English             |\n",
      "|PENELOPE GUINESS|    MULHOLLAND BEAST|A Awe-Inspiring D...|  2006-01-01|              7|       2.99|   157|           13.99| PG   |Trailers,Deleted ...|English             |\n",
      "|PENELOPE GUINESS|    OKLAHOMA JUMANJI|A Thoughtful Dram...|  2006-01-01|              7|       0.99|    58|           15.99| PG   |Behind the Scenes...|English             |\n",
      "|PENELOPE GUINESS|         RULES HUMAN|A Beautiful Epist...|  2006-01-01|              6|       4.99|   153|           19.99| R    |Deleted Scenes,Be...|English             |\n",
      "|PENELOPE GUINESS|         SPLASH GUMP|A Taut Saga of a ...|  2006-01-01|              5|       0.99|   175|           16.99| PG   |Trailers,Commenta...|English             |\n",
      "|PENELOPE GUINESS|   VERTIGO NORTHWEST|A Unbelieveable D...|  2006-01-01|              4|       2.99|    90|           17.99| R    |Commentaries,Behi...|English             |\n",
      "|PENELOPE GUINESS| WESTWARD SEABISCUIT|A Lacklusture Tal...|  2006-01-01|              7|       0.99|    52|           11.99| NC-17|Commentaries,Dele...|English             |\n",
      "|PENELOPE GUINESS|  WIZARD COLDBLOODED|A Lacklusture Dis...|  2006-01-01|              4|       4.99|    75|           12.99| PG   |Commentaries,Dele...|English             |\n",
      "|   NICK WAHLBERG|    ADAPTATION HOLES|A Astounding Refl...|  2006-01-01|              7|       2.99|    50|           18.99| NC-17|Trailers,Deleted ...|English             |\n",
      "+----------------+--------------------+--------------------+------------+---------------+-----------+------+----------------+------+--------------------+--------------------+\n",
      "only showing top 20 rows\n",
      "\n"
     ]
    }
   ],
   "source": [
    "df.show()"
   ]
  },
  {
   "cell_type": "code",
   "execution_count": 9,
   "id": "275947ee",
   "metadata": {},
   "outputs": [
    {
     "name": "stdout",
     "output_type": "stream",
     "text": [
      "root\n",
      " |-- Actor Name: string (nullable = true)\n",
      " |-- title: string (nullable = true)\n",
      " |-- description: string (nullable = true)\n",
      " |-- release_year: date (nullable = true)\n",
      " |-- rental_duration: short (nullable = true)\n",
      " |-- rental_rate: decimal(4,2) (nullable = true)\n",
      " |-- length: integer (nullable = true)\n",
      " |-- replacement_cost: decimal(5,2) (nullable = true)\n",
      " |-- rating: string (nullable = true)\n",
      " |-- special_features: string (nullable = true)\n",
      " |-- language name: string (nullable = true)\n",
      "\n"
     ]
    }
   ],
   "source": [
    "df.printSchema()"
   ]
  },
  {
   "cell_type": "code",
   "execution_count": null,
   "id": "490fa0b5",
   "metadata": {},
   "outputs": [],
   "source": []
  }
 ],
 "metadata": {
  "kernelspec": {
   "display_name": "Python 3 (ipykernel)",
   "language": "python",
   "name": "python3"
  },
  "language_info": {
   "codemirror_mode": {
    "name": "ipython",
    "version": 3
   },
   "file_extension": ".py",
   "mimetype": "text/x-python",
   "name": "python",
   "nbconvert_exporter": "python",
   "pygments_lexer": "ipython3",
   "version": "3.10.9"
  },
  "varInspector": {
   "cols": {
    "lenName": 16,
    "lenType": 16,
    "lenVar": 40
   },
   "kernels_config": {
    "python": {
     "delete_cmd_postfix": "",
     "delete_cmd_prefix": "del ",
     "library": "var_list.py",
     "varRefreshCmd": "print(var_dic_list())"
    },
    "r": {
     "delete_cmd_postfix": ") ",
     "delete_cmd_prefix": "rm(",
     "library": "var_list.r",
     "varRefreshCmd": "cat(var_dic_list()) "
    }
   },
   "types_to_exclude": [
    "module",
    "function",
    "builtin_function_or_method",
    "instance",
    "_Feature"
   ],
   "window_display": false
  }
 },
 "nbformat": 4,
 "nbformat_minor": 5
}
